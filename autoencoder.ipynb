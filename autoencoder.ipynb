{
 "cells": [
  {
   "cell_type": "markdown",
   "id": "2434be5c",
   "metadata": {},
   "source": [
    "# Autoencoder\n",
    "I want to use an autoencoder for dimensionality reduction on the full dataset with 1400+ features. <br>\n",
    "At the moment, the autoencoder has the following structure. <br>\n",
    "<br>\n",
    "\n",
    "![Diagram](AE_diagram.png)\n",
    "<br>\n",
    "The input variables are separated into categorical and continuous features. The categorical features are embedded and dropout is added. The continous features are treated with a batchnorm layer. Afterwards, all features are concatenate into a single Tensor. <br>\n",
    "The encoder is still very basic, consisting of two linear and one ReLu layer, reducing the dimensionality to 128 features. When using the full dataset with over 1400 features, I will probably add another linear layer (plus ReLu) going 512->256->128. <br>\n",
    "The decoder is the exact inverse of the encoder."
   ]
  },
  {
   "cell_type": "code",
   "execution_count": 1,
   "id": "3a89d2d1",
   "metadata": {},
   "outputs": [],
   "source": [
    "import torch\n",
    "import torch.nn as nn\n",
    "import torch.nn.functional as F\n",
    "from torch import nn, optim\n",
    "from torch.autograd import Variable\n",
    "from torch.utils.data import Dataset, DataLoader\n",
    "\n",
    "import pandas as pd\n",
    "import numpy as np\n",
    "from sklearn import preprocessing\n",
    "import matplotlib.pyplot as plt\n",
    "import seaborn as sns"
   ]
  },
  {
   "cell_type": "code",
   "execution_count": 2,
   "id": "7d8b9883",
   "metadata": {},
   "outputs": [
    {
     "data": {
      "text/plain": [
       "device(type='cuda')"
      ]
     },
     "execution_count": 2,
     "metadata": {},
     "output_type": "execute_result"
    }
   ],
   "source": [
    "device = torch.device('cuda' if torch.cuda.is_available() else 'cpu')\n",
    "device"
   ]
  },
  {
   "cell_type": "markdown",
   "id": "d560c7cf",
   "metadata": {},
   "source": [
    "For now, I'll use the smaller, manually reduced, dataset to make testing faster. When everything is working well, I will run this on the full dataset."
   ]
  },
  {
   "cell_type": "code",
   "execution_count": 3,
   "id": "6433b76f",
   "metadata": {},
   "outputs": [],
   "source": [
    "df = pd.read_csv('dataset_reduced.csv')"
   ]
  },
  {
   "cell_type": "code",
   "execution_count": 4,
   "id": "d0546217",
   "metadata": {},
   "outputs": [],
   "source": [
    "df['DAYS_BIRTH'] = df['DAYS_BIRTH'].astype('float64')\n",
    "df['DAYS_ID_PUBLISH'] = df['DAYS_ID_PUBLISH'].astype('float64')\n",
    "df['SK_ID_CURR'] = df['SK_ID_CURR'].astype('float64')"
   ]
  },
  {
   "cell_type": "code",
   "execution_count": 5,
   "id": "3c36cc74",
   "metadata": {},
   "outputs": [
    {
     "data": {
      "text/html": [
       "<div>\n",
       "<style scoped>\n",
       "    .dataframe tbody tr th:only-of-type {\n",
       "        vertical-align: middle;\n",
       "    }\n",
       "\n",
       "    .dataframe tbody tr th {\n",
       "        vertical-align: top;\n",
       "    }\n",
       "\n",
       "    .dataframe thead th {\n",
       "        text-align: right;\n",
       "    }\n",
       "</style>\n",
       "<table border=\"1\" class=\"dataframe\">\n",
       "  <thead>\n",
       "    <tr style=\"text-align: right;\">\n",
       "      <th></th>\n",
       "      <th>SK_ID_CURR</th>\n",
       "      <th>TARGET</th>\n",
       "      <th>NAME_CONTRACT_TYPE</th>\n",
       "      <th>CODE_GENDER</th>\n",
       "      <th>AMT_CREDIT</th>\n",
       "      <th>AMT_ANNUITY</th>\n",
       "      <th>NAME_EDUCATION_TYPE</th>\n",
       "      <th>NAME_FAMILY_STATUS</th>\n",
       "      <th>REGION_POPULATION_RELATIVE</th>\n",
       "      <th>DAYS_BIRTH</th>\n",
       "      <th>...</th>\n",
       "      <th>client_installments_AMT_INSTALMENT_max_mean</th>\n",
       "      <th>client_installments_AMT_PAYMENT_sum_min</th>\n",
       "      <th>client_installments_AMT_INSTALMENT_max_max</th>\n",
       "      <th>client_installments_AMT_PAYMENT_sum_mean</th>\n",
       "      <th>client_installments_AMT_PAYMENT_min_sum</th>\n",
       "      <th>client_installments_AMT_INSTALMENT_min_sum</th>\n",
       "      <th>client_installments_AMT_PAYMENT_sum_max</th>\n",
       "      <th>client_installments_AMT_PAYMENT_mean_sum</th>\n",
       "      <th>client_installments_AMT_INSTALMENT_max_sum</th>\n",
       "      <th>client_installments_AMT_PAYMENT_sum_sum</th>\n",
       "    </tr>\n",
       "  </thead>\n",
       "  <tbody>\n",
       "    <tr>\n",
       "      <th>0</th>\n",
       "      <td>100002.0</td>\n",
       "      <td>1.0</td>\n",
       "      <td>Cash loans</td>\n",
       "      <td>M</td>\n",
       "      <td>406597.5</td>\n",
       "      <td>24700.5</td>\n",
       "      <td>Secondary / secondary special</td>\n",
       "      <td>Single / not married</td>\n",
       "      <td>0.018801</td>\n",
       "      <td>-9461.0</td>\n",
       "      <td>...</td>\n",
       "      <td>53093.746</td>\n",
       "      <td>219625.700</td>\n",
       "      <td>53093.746</td>\n",
       "      <td>219625.700</td>\n",
       "      <td>175783.73</td>\n",
       "      <td>175783.73</td>\n",
       "      <td>219625.700</td>\n",
       "      <td>219625.690</td>\n",
       "      <td>1008781.200</td>\n",
       "      <td>4.172888e+06</td>\n",
       "    </tr>\n",
       "    <tr>\n",
       "      <th>1</th>\n",
       "      <td>100003.0</td>\n",
       "      <td>0.0</td>\n",
       "      <td>Cash loans</td>\n",
       "      <td>F</td>\n",
       "      <td>1293502.5</td>\n",
       "      <td>35698.5</td>\n",
       "      <td>Higher education</td>\n",
       "      <td>Married</td>\n",
       "      <td>0.003541</td>\n",
       "      <td>-16765.0</td>\n",
       "      <td>...</td>\n",
       "      <td>175764.050</td>\n",
       "      <td>80773.380</td>\n",
       "      <td>560835.400</td>\n",
       "      <td>453952.220</td>\n",
       "      <td>1154108.20</td>\n",
       "      <td>1154108.20</td>\n",
       "      <td>1150977.400</td>\n",
       "      <td>1618864.600</td>\n",
       "      <td>4394101.500</td>\n",
       "      <td>1.134881e+07</td>\n",
       "    </tr>\n",
       "    <tr>\n",
       "      <th>2</th>\n",
       "      <td>100004.0</td>\n",
       "      <td>0.0</td>\n",
       "      <td>Revolving loans</td>\n",
       "      <td>M</td>\n",
       "      <td>135000.0</td>\n",
       "      <td>6750.0</td>\n",
       "      <td>Secondary / secondary special</td>\n",
       "      <td>Single / not married</td>\n",
       "      <td>0.010032</td>\n",
       "      <td>-19046.0</td>\n",
       "      <td>...</td>\n",
       "      <td>10573.965</td>\n",
       "      <td>21288.465</td>\n",
       "      <td>10573.965</td>\n",
       "      <td>21288.465</td>\n",
       "      <td>16071.75</td>\n",
       "      <td>16071.75</td>\n",
       "      <td>21288.465</td>\n",
       "      <td>21288.465</td>\n",
       "      <td>31721.895</td>\n",
       "      <td>6.386539e+04</td>\n",
       "    </tr>\n",
       "    <tr>\n",
       "      <th>3</th>\n",
       "      <td>100006.0</td>\n",
       "      <td>0.0</td>\n",
       "      <td>Cash loans</td>\n",
       "      <td>F</td>\n",
       "      <td>312682.5</td>\n",
       "      <td>29686.5</td>\n",
       "      <td>Secondary / secondary special</td>\n",
       "      <td>Civil marriage</td>\n",
       "      <td>0.008019</td>\n",
       "      <td>-19005.0</td>\n",
       "      <td>...</td>\n",
       "      <td>66116.266</td>\n",
       "      <td>25091.324</td>\n",
       "      <td>691786.900</td>\n",
       "      <td>232499.700</td>\n",
       "      <td>994476.70</td>\n",
       "      <td>994476.70</td>\n",
       "      <td>691786.900</td>\n",
       "      <td>1007153.400</td>\n",
       "      <td>1057860.200</td>\n",
       "      <td>3.719995e+06</td>\n",
       "    </tr>\n",
       "    <tr>\n",
       "      <th>4</th>\n",
       "      <td>100007.0</td>\n",
       "      <td>0.0</td>\n",
       "      <td>Cash loans</td>\n",
       "      <td>M</td>\n",
       "      <td>513000.0</td>\n",
       "      <td>21865.5</td>\n",
       "      <td>Secondary / secondary special</td>\n",
       "      <td>Single / not married</td>\n",
       "      <td>0.028663</td>\n",
       "      <td>-19932.0</td>\n",
       "      <td>...</td>\n",
       "      <td>12677.324</td>\n",
       "      <td>18330.390</td>\n",
       "      <td>22678.785</td>\n",
       "      <td>172669.890</td>\n",
       "      <td>483756.38</td>\n",
       "      <td>825845.80</td>\n",
       "      <td>280199.700</td>\n",
       "      <td>806127.940</td>\n",
       "      <td>836703.400</td>\n",
       "      <td>1.139621e+07</td>\n",
       "    </tr>\n",
       "  </tbody>\n",
       "</table>\n",
       "<p>5 rows × 293 columns</p>\n",
       "</div>"
      ],
      "text/plain": [
       "   SK_ID_CURR  TARGET NAME_CONTRACT_TYPE CODE_GENDER  AMT_CREDIT  AMT_ANNUITY  \\\n",
       "0    100002.0     1.0         Cash loans           M    406597.5      24700.5   \n",
       "1    100003.0     0.0         Cash loans           F   1293502.5      35698.5   \n",
       "2    100004.0     0.0    Revolving loans           M    135000.0       6750.0   \n",
       "3    100006.0     0.0         Cash loans           F    312682.5      29686.5   \n",
       "4    100007.0     0.0         Cash loans           M    513000.0      21865.5   \n",
       "\n",
       "             NAME_EDUCATION_TYPE    NAME_FAMILY_STATUS  \\\n",
       "0  Secondary / secondary special  Single / not married   \n",
       "1               Higher education               Married   \n",
       "2  Secondary / secondary special  Single / not married   \n",
       "3  Secondary / secondary special        Civil marriage   \n",
       "4  Secondary / secondary special  Single / not married   \n",
       "\n",
       "   REGION_POPULATION_RELATIVE  DAYS_BIRTH  ...  \\\n",
       "0                    0.018801     -9461.0  ...   \n",
       "1                    0.003541    -16765.0  ...   \n",
       "2                    0.010032    -19046.0  ...   \n",
       "3                    0.008019    -19005.0  ...   \n",
       "4                    0.028663    -19932.0  ...   \n",
       "\n",
       "   client_installments_AMT_INSTALMENT_max_mean  \\\n",
       "0                                    53093.746   \n",
       "1                                   175764.050   \n",
       "2                                    10573.965   \n",
       "3                                    66116.266   \n",
       "4                                    12677.324   \n",
       "\n",
       "   client_installments_AMT_PAYMENT_sum_min  \\\n",
       "0                               219625.700   \n",
       "1                                80773.380   \n",
       "2                                21288.465   \n",
       "3                                25091.324   \n",
       "4                                18330.390   \n",
       "\n",
       "   client_installments_AMT_INSTALMENT_max_max  \\\n",
       "0                                   53093.746   \n",
       "1                                  560835.400   \n",
       "2                                   10573.965   \n",
       "3                                  691786.900   \n",
       "4                                   22678.785   \n",
       "\n",
       "   client_installments_AMT_PAYMENT_sum_mean  \\\n",
       "0                                219625.700   \n",
       "1                                453952.220   \n",
       "2                                 21288.465   \n",
       "3                                232499.700   \n",
       "4                                172669.890   \n",
       "\n",
       "   client_installments_AMT_PAYMENT_min_sum  \\\n",
       "0                                175783.73   \n",
       "1                               1154108.20   \n",
       "2                                 16071.75   \n",
       "3                                994476.70   \n",
       "4                                483756.38   \n",
       "\n",
       "  client_installments_AMT_INSTALMENT_min_sum  \\\n",
       "0                                  175783.73   \n",
       "1                                 1154108.20   \n",
       "2                                   16071.75   \n",
       "3                                  994476.70   \n",
       "4                                  825845.80   \n",
       "\n",
       "   client_installments_AMT_PAYMENT_sum_max  \\\n",
       "0                               219625.700   \n",
       "1                              1150977.400   \n",
       "2                                21288.465   \n",
       "3                               691786.900   \n",
       "4                               280199.700   \n",
       "\n",
       "  client_installments_AMT_PAYMENT_mean_sum  \\\n",
       "0                               219625.690   \n",
       "1                              1618864.600   \n",
       "2                                21288.465   \n",
       "3                              1007153.400   \n",
       "4                               806127.940   \n",
       "\n",
       "   client_installments_AMT_INSTALMENT_max_sum  \\\n",
       "0                                 1008781.200   \n",
       "1                                 4394101.500   \n",
       "2                                   31721.895   \n",
       "3                                 1057860.200   \n",
       "4                                  836703.400   \n",
       "\n",
       "   client_installments_AMT_PAYMENT_sum_sum  \n",
       "0                             4.172888e+06  \n",
       "1                             1.134881e+07  \n",
       "2                             6.386539e+04  \n",
       "3                             3.719995e+06  \n",
       "4                             1.139621e+07  \n",
       "\n",
       "[5 rows x 293 columns]"
      ]
     },
     "execution_count": 5,
     "metadata": {},
     "output_type": "execute_result"
    }
   ],
   "source": [
    "df.head()"
   ]
  },
  {
   "cell_type": "code",
   "execution_count": 6,
   "id": "631d7d9f",
   "metadata": {},
   "outputs": [],
   "source": [
    "for column in df.columns:\n",
    "    if df[column].dtype != 'float64':\n",
    "        df[column] = df[column].astype('category')"
   ]
  },
  {
   "cell_type": "markdown",
   "id": "c94e4314",
   "metadata": {},
   "source": [
    "To determine the size of categorical feature embeddings, I use a rule of thumb developed by the FastAI team. <br>"
   ]
  },
  {
   "cell_type": "code",
   "execution_count": 7,
   "id": "4cbb20b6",
   "metadata": {},
   "outputs": [],
   "source": [
    "def emb_sz_rule(n_cat): return round(1.6 * n_cat**0.56) ## rule of thumb\n",
    "\n",
    "def def_emb_sz(df):\n",
    "    sz_dict = {}\n",
    "    n_cat = df.nunique().values\n",
    "    sz = [(x, emb_sz_rule(x)) for x in n_cat]\n",
    "\n",
    "    return sz"
   ]
  },
  {
   "cell_type": "code",
   "execution_count": 8,
   "id": "4de011d1",
   "metadata": {},
   "outputs": [],
   "source": [
    "## a helper function that takes in the base dataset, does some preprocessing and returns the dataset split into train/test and categorical/continuous variables\n",
    "def load_data(df, valid_size=0.2):\n",
    "    x = df.drop(columns=['SK_ID_CURR', 'TARGET', 'test'])\n",
    "    x = x.replace([np.inf, -np.inf], np.nan) ## only needed for the reduced dataset, remove this when ready\n",
    "\n",
    "    ## train test split\n",
    "    ix = int(len(df)*valid_size)\n",
    "    x = x.sample(frac=1).reset_index() ## shuffle\n",
    "    x['valid'] = False\n",
    "    x.loc[0:ix, 'valid'] = True\n",
    "\n",
    "    \n",
    "    ## handle categorical variables\n",
    "    x_cat = x.select_dtypes(['category', 'bool'])\n",
    "    x_cat = x_cat.apply(preprocessing.LabelEncoder().fit_transform)\n",
    "    emb_sz = def_emb_sz(x_cat)[:-1] ## the last element is the \"valid\" variable, drop it\n",
    "    x_cat_train, x_cat_test = x_cat[x_cat['valid'] == False].drop(columns='valid'), x_cat[x_cat['valid'] == True].drop(columns='valid')\n",
    "    x_cat_train, x_cat_test = x_cat_train.values.reshape(-1, x_cat_train.shape[1]).astype('int64'), x_cat_test.values.reshape(-1, x_cat_test.shape[1]).astype('int64')\n",
    "    \n",
    "    ## handle continuous variables\n",
    "    x_cont = x.select_dtypes(['float64', 'bool'])\n",
    "    x_cont = x_cont.fillna(0)\n",
    "    x_cont_train, x_cont_test = x_cont[x_cont['valid'] == False].drop(columns='valid'), x_cont[x_cont['valid'] == True].drop(columns='valid')\n",
    "    x_cont_train, x_cont_test = x_cont_train.values.reshape(-1, x_cont_train.shape[1]).astype('float32'), x_cont_test.values.reshape(-1, x_cont_test.shape[1]).astype('float32')\n",
    "    \n",
    "    standardizer = preprocessing.StandardScaler()\n",
    "    x_cont_train = standardizer.fit_transform(x_cont_train) ## only fit on train set\n",
    "    x_cont_test = standardizer.transform(x_cont_test)\n",
    "    \n",
    "\n",
    "    return x_cat_train, x_cat_test, x_cont_train, x_cont_test, emb_sz"
   ]
  },
  {
   "cell_type": "code",
   "execution_count": 9,
   "id": "b85c726d",
   "metadata": {},
   "outputs": [],
   "source": [
    "## custom dataset class\n",
    "class AEDataset(Dataset):\n",
    "    def __init__(self, x_cat, x_cont, emb_sz):\n",
    "        self.x_cat, self.x_cont,self.emb_sz = x_cat, x_cont, emb_sz\n",
    "        self.n_cont = self.x_cont.shape[1]\n",
    "        self.n_cat = self.x_cat.shape[1]\n",
    "        self.len = self.n_cont + self.n_cat\n",
    "\n",
    "    def __getitem__(self,index):      \n",
    "        return self.x_cont[index], self.x_cat[index]\n",
    "    def __len__(self):\n",
    "        return self.len"
   ]
  },
  {
   "cell_type": "code",
   "execution_count": 10,
   "id": "c4587760",
   "metadata": {},
   "outputs": [],
   "source": [
    "def get_datasets(df):\n",
    "    x_cat_train, x_cat_test, x_cont_train, x_cont_test, emb_sz = load_data(df)\n",
    "    \n",
    "    train_dataset = AEDataset(x_cat_train, x_cont_train, emb_sz)\n",
    "    test_dataset = AEDataset(x_cat_test, x_cont_test, emb_sz)\n",
    "\n",
    "    return train_dataset, test_dataset"
   ]
  },
  {
   "cell_type": "code",
   "execution_count": 11,
   "id": "47ac0301",
   "metadata": {},
   "outputs": [],
   "source": [
    "train_dataset, test_dataset = get_datasets(df)\n",
    "\n",
    "train_dataloader = DataLoader(dataset=train_dataset,batch_size=1024)\n",
    "test_dataloader = DataLoader(dataset=test_dataset,batch_size=1024)"
   ]
  },
  {
   "cell_type": "code",
   "execution_count": 21,
   "id": "8e2cafd3",
   "metadata": {},
   "outputs": [],
   "source": [
    "x = next(iter(train_dataloader))[0]"
   ]
  },
  {
   "cell_type": "code",
   "execution_count": 26,
   "id": "0565beb8",
   "metadata": {},
   "outputs": [
    {
     "data": {
      "text/plain": [
       "tensor([[ 0.0346,  0.2323,  0.3076,  ..., -0.6898, -0.4504, -0.4212],\n",
       "        [ 0.7837, -0.0751, -0.7841,  ...,  0.5513, -0.0537, -0.2433],\n",
       "        [-0.5713, -0.0833,  1.8241,  ..., -0.4208, -0.3381, -0.3476],\n",
       "        ...,\n",
       "        [ 0.2191,  0.4788,  0.7103,  ...,  0.5625,  0.5897,  0.0177],\n",
       "        [ 2.4047,  1.0345,  1.8241,  ..., -0.3679, -0.3985, -0.3512],\n",
       "        [-0.9100, -1.1109,  0.3961,  ..., -0.6474, -0.4444, -0.3829]])"
      ]
     },
     "execution_count": 26,
     "metadata": {},
     "output_type": "execute_result"
    }
   ],
   "source": [
    "x"
   ]
  },
  {
   "cell_type": "code",
   "execution_count": 32,
   "id": "89f914cf",
   "metadata": {},
   "outputs": [
    {
     "data": {
      "text/plain": [
       "tensor([[ True,  True, False,  ..., False,  True,  True],\n",
       "        [False,  True,  True,  ..., False,  True, False],\n",
       "        [False,  True,  True,  ..., False,  True, False],\n",
       "        ...,\n",
       "        [ True,  True,  True,  ..., False, False,  True],\n",
       "        [False,  True, False,  ..., False, False, False],\n",
       "        [False,  True,  True,  ..., False,  True, False]])"
      ]
     },
     "execution_count": 32,
     "metadata": {},
     "output_type": "execute_result"
    }
   ],
   "source": [
    "mask = torch.rand(x.size()) > (1 - 0.5)\n",
    "mask"
   ]
  },
  {
   "cell_type": "code",
   "execution_count": 33,
   "id": "547d1150",
   "metadata": {},
   "outputs": [
    {
     "data": {
      "text/plain": [
       "tensor([[202, 152, 113,  ...,   4, 175, 223],\n",
       "        [ 26, 268,  88,  ...,  19, 196,  81],\n",
       "        [152, 121,  11,  ..., 247, 153, 240],\n",
       "        ...,\n",
       "        [ 76, 177,  78,  ..., 132,  31, 215],\n",
       "        [ 82, 124, 266,  ..., 137, 208, 160],\n",
       "        [141, 255, 216,  ...,  51,  71, 126]])"
      ]
     },
     "execution_count": 33,
     "metadata": {},
     "output_type": "execute_result"
    }
   ],
   "source": [
    "l1 = torch.floor(torch.rand(x.size()) * x.size(0)).type(torch.LongTensor)\n",
    "l1"
   ]
  },
  {
   "cell_type": "code",
   "execution_count": 34,
   "id": "99a82491",
   "metadata": {},
   "outputs": [
    {
     "data": {
      "text/plain": [
       "tensor([[276, 276,   0,  ...,   0, 276, 276],\n",
       "        [  0, 276, 276,  ...,   0, 276,   0],\n",
       "        [  0, 276, 276,  ...,   0, 276,   0],\n",
       "        ...,\n",
       "        [276, 276, 276,  ...,   0,   0, 276],\n",
       "        [  0, 276,   0,  ...,   0,   0,   0],\n",
       "        [  0, 276, 276,  ...,   0, 276,   0]])"
      ]
     },
     "execution_count": 34,
     "metadata": {},
     "output_type": "execute_result"
    }
   ],
   "source": [
    "l2 = (mask.type(torch.LongTensor) * x.size(1))\n",
    "l2"
   ]
  },
  {
   "cell_type": "code",
   "execution_count": 35,
   "id": "ca8043ee",
   "metadata": {},
   "outputs": [
    {
     "data": {
      "text/plain": [
       "tensor([55752, 41952,     0,  ...,     0, 19596,     0])"
      ]
     },
     "execution_count": 35,
     "metadata": {},
     "output_type": "execute_result"
    }
   ],
   "source": [
    "res = (l1 * l2).view(-1)\n",
    "res"
   ]
  },
  {
   "cell_type": "code",
   "execution_count": 36,
   "id": "f2dd6a48",
   "metadata": {},
   "outputs": [
    {
     "data": {
      "text/plain": [
       "tensor([55752, 41953,     2,  ..., 80037, 99634, 80039])"
      ]
     },
     "execution_count": 36,
     "metadata": {},
     "output_type": "execute_result"
    }
   ],
   "source": [
    "idx = torch.arange(x.nelement()) + res\n",
    "idx"
   ]
  },
  {
   "cell_type": "code",
   "execution_count": 37,
   "id": "4e800470",
   "metadata": {},
   "outputs": [
    {
     "data": {
      "text/plain": [
       "tensor([55752, 41953,     2,  ..., 80037, 19594, 80039])"
      ]
     },
     "execution_count": 37,
     "metadata": {},
     "output_type": "execute_result"
    }
   ],
   "source": [
    "idx[idx>=x.nelement()] = idx[idx>=x.nelement()]-x.nelement()\n",
    "idx"
   ]
  },
  {
   "cell_type": "code",
   "execution_count": 38,
   "id": "c328b287",
   "metadata": {},
   "outputs": [
    {
     "data": {
      "text/plain": [
       "tensor([[ 2.4047,  0.2537,  0.3076,  ..., -0.6898, -0.1157, -0.1346],\n",
       "        [ 0.7837,  0.5534,  1.0731,  ...,  0.5513, -0.4033, -0.2433],\n",
       "        [-0.5713, -0.8320, -0.2062,  ..., -0.4208, -0.4448, -0.3476],\n",
       "        ...,\n",
       "        [-0.4215, -0.9610, -0.1290,  ...,  0.5625,  0.5897, -0.3633],\n",
       "        [ 2.4047, -0.3035,  1.8241,  ..., -0.3679, -0.3985, -0.3512],\n",
       "        [-0.9100, -0.4953, -0.1506,  ..., -0.6474, -0.4331, -0.3829]])"
      ]
     },
     "execution_count": 38,
     "metadata": {},
     "output_type": "execute_result"
    }
   ],
   "source": [
    "x.flatten()[idx].view(x.size())"
   ]
  },
  {
   "cell_type": "markdown",
   "id": "96f3dbe5",
   "metadata": {},
   "source": [
    "A very efficient way of adding noise to an input batch is Swap Noise. With a given probability p, a feature value is replaced with a random value of the same feature distribution. <br>\n",
    "The actual implementation is copied from [EtienneT's](https://github.com/EtienneT/TabularVAE/blob/master/TabularAE.ipynb) Variational Autoencoder for FastAI and adapted for PyTorch."
   ]
  },
  {
   "cell_type": "code",
   "execution_count": 49,
   "id": "aa516dd4",
   "metadata": {},
   "outputs": [],
   "source": [
    "class BatchSwapNoise(torch.nn.Module):\n",
    "    def __init__(self, p):\n",
    "        super().__init__()\n",
    "        self.p = p\n",
    "\n",
    "    def forward(self, x):\n",
    "        if self.training:\n",
    "            mask = torch.rand(x.size()) > (1 - self.p)\n",
    "            l1 = torch.floor(torch.rand(x.size()) * x.size(0)).type(torch.LongTensor)\n",
    "            l2 = (mask.type(torch.LongTensor) * x.size(1))\n",
    "            res = (l1 * l2).view(-1)\n",
    "            idx = torch.arange(x.nelement()) + res\n",
    "            idx[idx>=x.nelement()] = idx[idx>=x.nelement()]-x.nelement()\n",
    "            return x.flatten()[idx].view(x.size())\n",
    "        else:\n",
    "            return x"
   ]
  },
  {
   "cell_type": "code",
   "execution_count": 50,
   "id": "061d408d",
   "metadata": {},
   "outputs": [],
   "source": [
    "class AutoEncoder(torch.nn.Module):\n",
    "    def __init__(self, emb_szs, n_cont, dropout=0.2):\n",
    "        super().__init__()\n",
    "        self.embeddings = nn.ModuleList([nn.Embedding(categories, size) for categories,size in emb_szs])  \n",
    "        n_emb = sum([size for categories,size in emb_szs]) #sum embedding sizes\n",
    "        n_cat = sum([categories for categories,size in emb_szs]) ## sum category labels\n",
    "        self.n_emb, self.n_cont, self.n_cat = n_emb, n_cont, n_cat\n",
    "        self.n_input = n_emb + n_cont\n",
    "        \n",
    "        self.bn1 = nn.BatchNorm1d(self.n_cont)\n",
    "        self.emb_dropout = nn.Dropout(dropout)\n",
    "        self.bn_cont = nn.BatchNorm1d(self.n_cont)\n",
    "        self.noise = BatchSwapNoise(0.1)\n",
    "\n",
    "         \n",
    "        self.encoder = torch.nn.Sequential(\n",
    "            torch.nn.Linear(self.n_input, 256),\n",
    "            torch.nn.ReLU(),\n",
    "            torch.nn.Linear(256, 128),\n",
    "        )\n",
    "          \n",
    "\n",
    "        self.decoder = torch.nn.Sequential(\n",
    "            torch.nn.Linear(128, 256),\n",
    "            torch.nn.ReLU(),\n",
    "            torch.nn.Linear(256, self.n_input),\n",
    "        )\n",
    "        \n",
    "    \n",
    "    ## function to turn embeddings into label probabilities\n",
    "    def decode_embeddings(self, values, proba=False):\n",
    "        softmax = torch.nn.Softmax(dim=0)\n",
    "        \n",
    "        start = 0\n",
    "\n",
    "        out = torch.empty((290,0), requires_grad=True).long().to(device)\n",
    "\n",
    "        ### loop through each embedding\n",
    "        ## TODO: there has to be a better way to do this than two loops\n",
    "        for emb in self.embeddings:\n",
    "            \n",
    "            stop = start + emb.weight.data.shape[1]\n",
    "            \n",
    "            pred = torch.empty((0,emb.weight.data.shape[0])).to(device) ## create empty tensor of size (0,n) where n is the number of feature labels\n",
    "                \n",
    "            ## loop through each item in the batch   \n",
    "            for i in range(290):\n",
    "                \n",
    "                ## get the euclidian distance between input values and feature embeddings\n",
    "                distance = ((emb.weight.data - values[i,start:stop])**2).sum(axis=1)\n",
    " \n",
    "                ## softmax assigns the highest probability to the highest input value\n",
    "                ## I take the negative to give assign the highest probability to the smallest distance\n",
    "                p = softmax(-distance).unsqueeze(0)\n",
    "                    \n",
    "                pred = torch.cat([pred,p])\n",
    "                    \n",
    "            out = torch.cat([out,pred],axis=1)\n",
    "            start = stop  \n",
    "        \n",
    "        return out\n",
    "    \n",
    "    \n",
    "\n",
    "    def forward(self, x_cont, x_cat, encode=False):\n",
    "        x_cat = x_cat.to(device)\n",
    "        x_cont = x_cont.to(device)\n",
    "        \n",
    "        ## add batch swap noise\n",
    "        x_cat = self.noise(x_cat)\n",
    "        x_cont = self.noise(x_cont)\n",
    "\n",
    "        ## embedd categorical features and add dropout\n",
    "        x = [emb(x_cat[:,i]) for i, emb in enumerate(self.embeddings)]   \n",
    "        x = torch.cat(x, 1)\n",
    "        x = self.emb_dropout(x)\n",
    "\n",
    "        ## batch norm on continuous features\n",
    "        x2 = self.bn_cont(x_cont)\n",
    "        \n",
    "        ## concat cat and cont features\n",
    "        x = torch.cat([x, x2], 1) \n",
    "        \n",
    "        ## encode features\n",
    "        x = self.encoder(x)\n",
    "        \n",
    "        ## if I only want to encode features, stop here\n",
    "        if encode:\n",
    "            return x\n",
    "        \n",
    "        \n",
    "        ## decode encoded features\n",
    "        x = self.decoder(x)\n",
    "        \n",
    "        ## get continuous features\n",
    "        x_cont_out = x[:,self.n_emb:]\n",
    "        \n",
    "        ## get categorical features and reverse embedding\n",
    "        x_cat_out = x[:,0:self.n_emb]\n",
    "        x_cat_out = self.decode_embeddings(x_cat_out)\n",
    "        \n",
    "        return x_cont_out, x_cat_out"
   ]
  },
  {
   "cell_type": "code",
   "execution_count": 51,
   "id": "5b166ec6",
   "metadata": {},
   "outputs": [],
   "source": [
    "len_x = train_dataset.len\n",
    "len_cont = train_dataset.n_cont\n",
    "emb_sz = train_dataset.emb_sz\n",
    "model = AutoEncoder(emb_sz, len_cont).to(device)"
   ]
  },
  {
   "cell_type": "code",
   "execution_count": 52,
   "id": "38f0b5aa",
   "metadata": {},
   "outputs": [],
   "source": [
    "class customLoss(nn.Module):\n",
    "    def __init__(self):\n",
    "        super(customLoss, self).__init__()\n",
    "        self.mse_loss = nn.MSELoss(reduction='sum')\n",
    "        self.ce_loss = nn.CrossEntropyLoss(reduction='sum')\n",
    "    \n",
    "    def forward(self, x_cont_ae, x_cat_ae, x_cont, x_cat):\n",
    "\n",
    "        ## loss for the continuous features is simply MSE\n",
    "        cont_loss = self.mse_loss(x_cont_ae, x_cont)\n",
    "        \n",
    "        ## the input categorical features are label encoded, but one-hot encoding is needed to calculate cross entropy loss\n",
    "        one_hot = torch.empty((290,0), requires_grad=True).long().to(device)\n",
    "        \n",
    "        for i in range(x_cat.shape[1]):\n",
    "            n_classes = train_dataset.x_cat[:,i].max() + 1 ## not every label is present in a batch, so I have to supply the amount of feature labels   \n",
    "            out = nn.functional.one_hot(x_cat[:,i], num_classes=n_classes).to(device)\n",
    "            one_hot = torch.cat([one_hot,out], axis=1)\n",
    "        \n",
    "        one_hot = one_hot.float()\n",
    "     \n",
    "        ## now I can easily calculate cross entropy loss\n",
    "        cat_loss = self.ce_loss(x_cat_ae, one_hot)\n",
    "        \n",
    "        ## take the sum as the final output\n",
    "        loss = cont_loss + cat_loss\n",
    "        \n",
    "\n",
    "        return loss"
   ]
  },
  {
   "cell_type": "code",
   "execution_count": 53,
   "id": "ed8b2856",
   "metadata": {},
   "outputs": [],
   "source": [
    "loss_function = customLoss()\n",
    "optimizer = torch.optim.Adam(model.parameters(),\n",
    "                             lr = 1e-2,\n",
    "                             weight_decay = 1e-8)"
   ]
  },
  {
   "cell_type": "code",
   "execution_count": 54,
   "id": "35242603",
   "metadata": {},
   "outputs": [],
   "source": [
    "epochs = 100\n",
    "val_losses = []\n",
    "train_losses = []\n",
    "patience = 10"
   ]
  },
  {
   "cell_type": "code",
   "execution_count": 55,
   "id": "5c5be1ee",
   "metadata": {},
   "outputs": [
    {
     "name": "stdout",
     "output_type": "stream",
     "text": [
      "Epoch 0. Train loss: 301.24. Valid loss: 331.35.\n",
      "Epoch 1. Train loss: 291.57. Valid loss: 320.52.\n",
      "Epoch 2. Train loss: 275.46. Valid loss: 303.82.\n",
      "Epoch 3. Train loss: 267.91. Valid loss: 286.43.\n",
      "Epoch 4. Train loss: 243.76. Valid loss: 277.16.\n",
      "Epoch 5. Train loss: 233.16. Valid loss: 263.99.\n",
      "Epoch 6. Train loss: 216.29. Valid loss: 265.88.\n",
      "Epoch 7. Train loss: 213.83. Valid loss: 253.67.\n",
      "Epoch 8. Train loss: 200.39. Valid loss: 249.48.\n",
      "Epoch 9. Train loss: 195.94. Valid loss: 244.03.\n",
      "Epoch 10. Train loss: 187.75. Valid loss: 242.87.\n",
      "Epoch 11. Train loss: 183.24. Valid loss: 237.38.\n",
      "Epoch 12. Train loss: 177.26. Valid loss: 234.62.\n",
      "Epoch 13. Train loss: 172.15. Valid loss: 232.02.\n",
      "Epoch 14. Train loss: 167.61. Valid loss: 228.26.\n",
      "Epoch 15. Train loss: 162.89. Valid loss: 225.25.\n",
      "Epoch 16. Train loss: 158.37. Valid loss: 224.75.\n",
      "Epoch 17. Train loss: 154.53. Valid loss: 223.28.\n",
      "Epoch 18. Train loss: 150.21. Valid loss: 221.30.\n",
      "Epoch 19. Train loss: 146.99. Valid loss: 219.59.\n",
      "Epoch 20. Train loss: 143.57. Valid loss: 218.99.\n",
      "Epoch 21. Train loss: 140.44. Valid loss: 217.49.\n",
      "Epoch 22. Train loss: 137.50. Valid loss: 216.06.\n",
      "Epoch 23. Train loss: 134.82. Valid loss: 216.07.\n",
      "Epoch 24. Train loss: 132.37. Valid loss: 215.43.\n",
      "Epoch 25. Train loss: 129.35. Valid loss: 214.48.\n",
      "Epoch 26. Train loss: 126.71. Valid loss: 213.34.\n",
      "Epoch 27. Train loss: 124.63. Valid loss: 213.15.\n",
      "Epoch 28. Train loss: 122.58. Valid loss: 212.27.\n",
      "Epoch 29. Train loss: 121.05. Valid loss: 211.26.\n",
      "Epoch 30. Train loss: 118.61. Valid loss: 211.61.\n",
      "Epoch 31. Train loss: 116.43. Valid loss: 211.12.\n",
      "Epoch 32. Train loss: 115.35. Valid loss: 210.64.\n",
      "Epoch 33. Train loss: 113.52. Valid loss: 210.71.\n",
      "Epoch 34. Train loss: 112.14. Valid loss: 210.34.\n",
      "Epoch 35. Train loss: 111.00. Valid loss: 209.47.\n",
      "Epoch 36. Train loss: 108.41. Valid loss: 209.54.\n",
      "Epoch 37. Train loss: 107.97. Valid loss: 209.74.\n",
      "Epoch 38. Train loss: 106.95. Valid loss: 209.96.\n",
      "Epoch 39. Train loss: 104.68. Valid loss: 211.08.\n",
      "Epoch 40. Train loss: 104.60. Valid loss: 210.09.\n",
      "Epoch 41. Train loss: 103.04. Valid loss: 209.86.\n",
      "Epoch 42. Train loss: 101.99. Valid loss: 209.90.\n",
      "Epoch 43. Train loss: 100.28. Valid loss: 209.93.\n",
      "Epoch 44. Train loss: 99.79. Valid loss: 210.63.\n",
      "Epoch 45. Train loss: 98.91. Valid loss: 209.44.\n",
      "Epoch 46. Train loss: 98.20. Valid loss: 209.40.\n",
      "Epoch 47. Train loss: 96.31. Valid loss: 210.63.\n",
      "Epoch 48. Train loss: 95.63. Valid loss: 210.18.\n",
      "Epoch 49. Train loss: 95.35. Valid loss: 210.04.\n",
      "Epoch 50. Train loss: 94.53. Valid loss: 210.00.\n",
      "Epoch 51. Train loss: 94.12. Valid loss: 210.43.\n",
      "Epoch 52. Train loss: 93.35. Valid loss: 210.20.\n",
      "Epoch 53. Train loss: 92.37. Valid loss: 209.44.\n",
      "Epoch 54. Train loss: 91.07. Valid loss: 208.89.\n",
      "Epoch 55. Train loss: 90.19. Valid loss: 209.50.\n",
      "Epoch 56. Train loss: 90.01. Valid loss: 208.91.\n",
      "Epoch 57. Train loss: 89.47. Valid loss: 208.40.\n",
      "Epoch 58. Train loss: 89.00. Valid loss: 208.86.\n",
      "Epoch 59. Train loss: 88.53. Valid loss: 209.02.\n",
      "Epoch 60. Train loss: 87.46. Valid loss: 209.25.\n",
      "Epoch 61. Train loss: 87.90. Valid loss: 208.99.\n",
      "Epoch 62. Train loss: 87.02. Valid loss: 209.14.\n",
      "Epoch 63. Train loss: 86.27. Valid loss: 209.38.\n",
      "Epoch 64. Train loss: 85.85. Valid loss: 208.96.\n",
      "Epoch 65. Train loss: 86.31. Valid loss: 209.46.\n",
      "Epoch 66. Train loss: 84.92. Valid loss: 209.38.\n",
      "Epoch 67. Train loss: 85.42. Valid loss: 208.80.\n",
      "No improvement for 10 epochs. Ending training.\n"
     ]
    }
   ],
   "source": [
    "for e in range(epochs):\n",
    "    \n",
    "    ## train\n",
    "    train_loss = 0.0\n",
    "    model.train()\n",
    "    for batch_idx, data in enumerate(train_dataloader):\n",
    "        x_cont, x_cat = data[0].to(device), data[1].to(device)\n",
    "        \n",
    "        optimizer.zero_grad()\n",
    "        \n",
    "        x_cont_ae, x_cat_ae = model(x_cont, x_cat)\n",
    "        \n",
    "        loss = loss_function(x_cont_ae, x_cat_ae, x_cont, x_cat)\n",
    "        loss.backward()\n",
    "        \n",
    "        optimizer.step()\n",
    "        \n",
    "        train_loss += loss.item()\n",
    "     \n",
    "    \n",
    "    ## validate\n",
    "    valid_loss = 0.0\n",
    "    model.eval()\n",
    "    for batch_idx, data in enumerate(test_dataloader):\n",
    "        x_cont, x_cat = data[0].to(device), data[1].to(device)\n",
    "         \n",
    "        x_cont_ae, x_cat_ae = model(x_cont, x_cat)\n",
    "        \n",
    "        loss = loss_function(x_cont_ae, x_cat_ae, x_cont, x_cat)\n",
    "        \n",
    "        valid_loss += loss.item()\n",
    "        \n",
    "    \n",
    "    train_losses.append(train_loss / len(train_dataloader.dataset))\n",
    "    val_losses.append(valid_loss / len(test_dataloader.dataset))\n",
    " \n",
    "    print('Epoch {}. Train loss: {:.2f}. Valid loss: {:.2f}.'.format(e, train_losses[-1], val_losses[-1]))\n",
    "    \n",
    "    if (e > patience) & (min(val_losses[-patience:]) != min(val_losses)):\n",
    "        print('No improvement for {} epochs. Ending training.'.format(patience))\n",
    "        break"
   ]
  },
  {
   "cell_type": "markdown",
   "id": "255a181f",
   "metadata": {},
   "source": [
    "## Preliminary Result\n",
    "The training loss is really good, the model is able to recreate the input variables very well. However, the validation loss is converging very fast. I could probably improve this by adding more regularization. <br>\n",
    "I'm not quite sure if I should even consider validation loss when my only objective is to reduce the dimensionality of a known dataset. I'll have to do some research on this."
   ]
  },
  {
   "cell_type": "code",
   "execution_count": 56,
   "id": "826cd898",
   "metadata": {},
   "outputs": [
    {
     "data": {
      "image/png": "[encoded data removed]",
      "text/plain": [
       "<Figure size 432x288 with 1 Axes>"
      ]
     },
     "metadata": {
      "needs_background": "light"
     },
     "output_type": "display_data"
    }
   ],
   "source": [
    "plot_df = pd.DataFrame({'train': train_losses, 'valid': val_losses})\n",
    "ax = sns.lineplot(data=plot_df)\n",
    "ax.set(xlabel='Epoch', ylabel='Loss')\n",
    "plt.show()"
   ]
  }
 ],
 "metadata": {
  "kernelspec": {
   "display_name": "Python 3 (ipykernel)",
   "language": "python",
   "name": "python3"
  },
  "language_info": {
   "codemirror_mode": {
    "name": "ipython",
    "version": 3
   },
   "file_extension": ".py",
   "mimetype": "text/x-python",
   "name": "python",
   "nbconvert_exporter": "python",
   "pygments_lexer": "ipython3",
   "version": "3.7.11"
  }
 },
 "nbformat": 4,
 "nbformat_minor": 5
}
