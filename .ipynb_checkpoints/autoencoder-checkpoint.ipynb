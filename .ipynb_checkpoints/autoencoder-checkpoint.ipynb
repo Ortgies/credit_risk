{
 "cells": [
  {
   "cell_type": "markdown",
   "id": "9d32417a",
   "metadata": {},
   "source": [
    "## Autoencoding features\n",
    "In previous notebooks, I have used manual feature selection to reduce the number of variables from over 1400 to 290. <br>\n",
    "In other tabular competitions, Autoencoders have been able to achieve great results. An autoencoder is a neural network that tries to recreate its inputs after passing it through a bottleneck layer. As such, an autoencoder is able to represent a large feature vector with a much smaller feature vector. <br>\n",
    "This approach might be able to retain more information compared to manual feature selection. <br>\n",
    "I will first build the autoencoder using the reduced dataset for performance reasons. If everything works well, I will train the autoencoder on the full 1400+ feature dataset."
   ]
  },
  {
   "cell_type": "code",
   "execution_count": 1,
   "id": "58ed85dc",
   "metadata": {},
   "outputs": [],
   "source": [
    "import pandas as pd\n",
    "from fastai.tabular.all import *\n",
    "from sklearn.metrics import confusion_matrix\n",
    "import seaborn as sns"
   ]
  },
  {
   "cell_type": "code",
   "execution_count": 2,
   "id": "80a1c5dd",
   "metadata": {},
   "outputs": [],
   "source": [
    "df = pd.read_csv('dataset_reduced.csv')\n",
    "df.replace([np.inf, -np.inf], np.nan, inplace=True)"
   ]
  },
  {
   "cell_type": "code",
   "execution_count": 3,
   "id": "3a6a018b",
   "metadata": {},
   "outputs": [],
   "source": [
    "df = df.drop(columns=['SK_ID_CURR', 'test'])"
   ]
  },
  {
   "cell_type": "code",
   "execution_count": 4,
   "id": "f1a1487b",
   "metadata": {},
   "outputs": [
    {
     "data": {
      "text/html": [
       "<div>\n",
       "<style scoped>\n",
       "    .dataframe tbody tr th:only-of-type {\n",
       "        vertical-align: middle;\n",
       "    }\n",
       "\n",
       "    .dataframe tbody tr th {\n",
       "        vertical-align: top;\n",
       "    }\n",
       "\n",
       "    .dataframe thead th {\n",
       "        text-align: right;\n",
       "    }\n",
       "</style>\n",
       "<table border=\"1\" class=\"dataframe\">\n",
       "  <thead>\n",
       "    <tr style=\"text-align: right;\">\n",
       "      <th></th>\n",
       "      <th>TARGET</th>\n",
       "      <th>NAME_CONTRACT_TYPE</th>\n",
       "      <th>CODE_GENDER</th>\n",
       "      <th>AMT_CREDIT</th>\n",
       "      <th>AMT_ANNUITY</th>\n",
       "      <th>NAME_EDUCATION_TYPE</th>\n",
       "      <th>NAME_FAMILY_STATUS</th>\n",
       "      <th>REGION_POPULATION_RELATIVE</th>\n",
       "      <th>DAYS_BIRTH</th>\n",
       "      <th>DAYS_EMPLOYED</th>\n",
       "      <th>...</th>\n",
       "      <th>client_installments_AMT_INSTALMENT_max_mean</th>\n",
       "      <th>client_installments_AMT_PAYMENT_sum_min</th>\n",
       "      <th>client_installments_AMT_INSTALMENT_max_max</th>\n",
       "      <th>client_installments_AMT_PAYMENT_sum_mean</th>\n",
       "      <th>client_installments_AMT_PAYMENT_min_sum</th>\n",
       "      <th>client_installments_AMT_INSTALMENT_min_sum</th>\n",
       "      <th>client_installments_AMT_PAYMENT_sum_max</th>\n",
       "      <th>client_installments_AMT_PAYMENT_mean_sum</th>\n",
       "      <th>client_installments_AMT_INSTALMENT_max_sum</th>\n",
       "      <th>client_installments_AMT_PAYMENT_sum_sum</th>\n",
       "    </tr>\n",
       "  </thead>\n",
       "  <tbody>\n",
       "    <tr>\n",
       "      <th>0</th>\n",
       "      <td>1.0</td>\n",
       "      <td>Cash loans</td>\n",
       "      <td>M</td>\n",
       "      <td>406597.5</td>\n",
       "      <td>24700.5</td>\n",
       "      <td>Secondary / secondary special</td>\n",
       "      <td>Single / not married</td>\n",
       "      <td>0.018801</td>\n",
       "      <td>-9461</td>\n",
       "      <td>-637.0</td>\n",
       "      <td>...</td>\n",
       "      <td>53093.746</td>\n",
       "      <td>219625.700</td>\n",
       "      <td>53093.746</td>\n",
       "      <td>219625.700</td>\n",
       "      <td>175783.73</td>\n",
       "      <td>175783.73</td>\n",
       "      <td>219625.700</td>\n",
       "      <td>219625.690</td>\n",
       "      <td>1008781.200</td>\n",
       "      <td>4.172888e+06</td>\n",
       "    </tr>\n",
       "    <tr>\n",
       "      <th>1</th>\n",
       "      <td>0.0</td>\n",
       "      <td>Cash loans</td>\n",
       "      <td>F</td>\n",
       "      <td>1293502.5</td>\n",
       "      <td>35698.5</td>\n",
       "      <td>Higher education</td>\n",
       "      <td>Married</td>\n",
       "      <td>0.003541</td>\n",
       "      <td>-16765</td>\n",
       "      <td>-1188.0</td>\n",
       "      <td>...</td>\n",
       "      <td>175764.050</td>\n",
       "      <td>80773.380</td>\n",
       "      <td>560835.400</td>\n",
       "      <td>453952.220</td>\n",
       "      <td>1154108.20</td>\n",
       "      <td>1154108.20</td>\n",
       "      <td>1150977.400</td>\n",
       "      <td>1618864.600</td>\n",
       "      <td>4394101.500</td>\n",
       "      <td>1.134881e+07</td>\n",
       "    </tr>\n",
       "    <tr>\n",
       "      <th>2</th>\n",
       "      <td>0.0</td>\n",
       "      <td>Revolving loans</td>\n",
       "      <td>M</td>\n",
       "      <td>135000.0</td>\n",
       "      <td>6750.0</td>\n",
       "      <td>Secondary / secondary special</td>\n",
       "      <td>Single / not married</td>\n",
       "      <td>0.010032</td>\n",
       "      <td>-19046</td>\n",
       "      <td>-225.0</td>\n",
       "      <td>...</td>\n",
       "      <td>10573.965</td>\n",
       "      <td>21288.465</td>\n",
       "      <td>10573.965</td>\n",
       "      <td>21288.465</td>\n",
       "      <td>16071.75</td>\n",
       "      <td>16071.75</td>\n",
       "      <td>21288.465</td>\n",
       "      <td>21288.465</td>\n",
       "      <td>31721.895</td>\n",
       "      <td>6.386539e+04</td>\n",
       "    </tr>\n",
       "    <tr>\n",
       "      <th>3</th>\n",
       "      <td>0.0</td>\n",
       "      <td>Cash loans</td>\n",
       "      <td>F</td>\n",
       "      <td>312682.5</td>\n",
       "      <td>29686.5</td>\n",
       "      <td>Secondary / secondary special</td>\n",
       "      <td>Civil marriage</td>\n",
       "      <td>0.008019</td>\n",
       "      <td>-19005</td>\n",
       "      <td>-3039.0</td>\n",
       "      <td>...</td>\n",
       "      <td>66116.266</td>\n",
       "      <td>25091.324</td>\n",
       "      <td>691786.900</td>\n",
       "      <td>232499.700</td>\n",
       "      <td>994476.70</td>\n",
       "      <td>994476.70</td>\n",
       "      <td>691786.900</td>\n",
       "      <td>1007153.400</td>\n",
       "      <td>1057860.200</td>\n",
       "      <td>3.719995e+06</td>\n",
       "    </tr>\n",
       "    <tr>\n",
       "      <th>4</th>\n",
       "      <td>0.0</td>\n",
       "      <td>Cash loans</td>\n",
       "      <td>M</td>\n",
       "      <td>513000.0</td>\n",
       "      <td>21865.5</td>\n",
       "      <td>Secondary / secondary special</td>\n",
       "      <td>Single / not married</td>\n",
       "      <td>0.028663</td>\n",
       "      <td>-19932</td>\n",
       "      <td>-3038.0</td>\n",
       "      <td>...</td>\n",
       "      <td>12677.324</td>\n",
       "      <td>18330.390</td>\n",
       "      <td>22678.785</td>\n",
       "      <td>172669.890</td>\n",
       "      <td>483756.38</td>\n",
       "      <td>825845.80</td>\n",
       "      <td>280199.700</td>\n",
       "      <td>806127.940</td>\n",
       "      <td>836703.400</td>\n",
       "      <td>1.139621e+07</td>\n",
       "    </tr>\n",
       "  </tbody>\n",
       "</table>\n",
       "<p>5 rows × 291 columns</p>\n",
       "</div>"
      ],
      "text/plain": [
       "   TARGET NAME_CONTRACT_TYPE CODE_GENDER  AMT_CREDIT  AMT_ANNUITY  \\\n",
       "0     1.0         Cash loans           M    406597.5      24700.5   \n",
       "1     0.0         Cash loans           F   1293502.5      35698.5   \n",
       "2     0.0    Revolving loans           M    135000.0       6750.0   \n",
       "3     0.0         Cash loans           F    312682.5      29686.5   \n",
       "4     0.0         Cash loans           M    513000.0      21865.5   \n",
       "\n",
       "             NAME_EDUCATION_TYPE    NAME_FAMILY_STATUS  \\\n",
       "0  Secondary / secondary special  Single / not married   \n",
       "1               Higher education               Married   \n",
       "2  Secondary / secondary special  Single / not married   \n",
       "3  Secondary / secondary special        Civil marriage   \n",
       "4  Secondary / secondary special  Single / not married   \n",
       "\n",
       "   REGION_POPULATION_RELATIVE  DAYS_BIRTH  DAYS_EMPLOYED  ...  \\\n",
       "0                    0.018801       -9461         -637.0  ...   \n",
       "1                    0.003541      -16765        -1188.0  ...   \n",
       "2                    0.010032      -19046         -225.0  ...   \n",
       "3                    0.008019      -19005        -3039.0  ...   \n",
       "4                    0.028663      -19932        -3038.0  ...   \n",
       "\n",
       "   client_installments_AMT_INSTALMENT_max_mean  \\\n",
       "0                                    53093.746   \n",
       "1                                   175764.050   \n",
       "2                                    10573.965   \n",
       "3                                    66116.266   \n",
       "4                                    12677.324   \n",
       "\n",
       "   client_installments_AMT_PAYMENT_sum_min  \\\n",
       "0                               219625.700   \n",
       "1                                80773.380   \n",
       "2                                21288.465   \n",
       "3                                25091.324   \n",
       "4                                18330.390   \n",
       "\n",
       "   client_installments_AMT_INSTALMENT_max_max  \\\n",
       "0                                   53093.746   \n",
       "1                                  560835.400   \n",
       "2                                   10573.965   \n",
       "3                                  691786.900   \n",
       "4                                   22678.785   \n",
       "\n",
       "   client_installments_AMT_PAYMENT_sum_mean  \\\n",
       "0                                219625.700   \n",
       "1                                453952.220   \n",
       "2                                 21288.465   \n",
       "3                                232499.700   \n",
       "4                                172669.890   \n",
       "\n",
       "  client_installments_AMT_PAYMENT_min_sum  \\\n",
       "0                               175783.73   \n",
       "1                              1154108.20   \n",
       "2                                16071.75   \n",
       "3                               994476.70   \n",
       "4                               483756.38   \n",
       "\n",
       "   client_installments_AMT_INSTALMENT_min_sum  \\\n",
       "0                                   175783.73   \n",
       "1                                  1154108.20   \n",
       "2                                    16071.75   \n",
       "3                                   994476.70   \n",
       "4                                   825845.80   \n",
       "\n",
       "  client_installments_AMT_PAYMENT_sum_max  \\\n",
       "0                              219625.700   \n",
       "1                             1150977.400   \n",
       "2                               21288.465   \n",
       "3                              691786.900   \n",
       "4                              280199.700   \n",
       "\n",
       "   client_installments_AMT_PAYMENT_mean_sum  \\\n",
       "0                                219625.690   \n",
       "1                               1618864.600   \n",
       "2                                 21288.465   \n",
       "3                               1007153.400   \n",
       "4                                806127.940   \n",
       "\n",
       "   client_installments_AMT_INSTALMENT_max_sum  \\\n",
       "0                                 1008781.200   \n",
       "1                                 4394101.500   \n",
       "2                                   31721.895   \n",
       "3                                 1057860.200   \n",
       "4                                  836703.400   \n",
       "\n",
       "  client_installments_AMT_PAYMENT_sum_sum  \n",
       "0                            4.172888e+06  \n",
       "1                            1.134881e+07  \n",
       "2                            6.386539e+04  \n",
       "3                            3.719995e+06  \n",
       "4                            1.139621e+07  \n",
       "\n",
       "[5 rows x 291 columns]"
      ]
     },
     "execution_count": 4,
     "metadata": {},
     "output_type": "execute_result"
    }
   ],
   "source": [
    "df.head()"
   ]
  },
  {
   "cell_type": "code",
   "execution_count": 5,
   "id": "c5d1fb87",
   "metadata": {},
   "outputs": [],
   "source": [
    "cont_names, cat_names = cont_cat_split(df, dep_var='TARGET')\n",
    "procs = [Categorify, FillMissing, Normalize]\n",
    "splits = RandomSplitter()(range_of(df))"
   ]
  },
  {
   "cell_type": "markdown",
   "id": "c0cb8415",
   "metadata": {},
   "source": [
    "FastAI implementation of an Autoencoder, based on the work of [EtienneT](https://github.com/EtienneT/TabularVAE/blob/master/TabularAE.ipynb)."
   ]
  },
  {
   "cell_type": "code",
   "execution_count": 6,
   "id": "bbcb3480",
   "metadata": {},
   "outputs": [],
   "source": [
    "class ReadTabBatchIdentity(ItemTransform):\n",
    "    \"Read a batch of data and return the inputs as both `x` and `y`\"\n",
    "    def __init__(self, to): store_attr()\n",
    "\n",
    "    def encodes(self, to):\n",
    "        if not to.with_cont: res = (tensor(to.cats).long(),) + (tensor(to.cats).long(),)\n",
    "        else: res = (tensor(to.cats).long(),tensor(to.conts).float()) + (tensor(to.cats).long(), tensor(to.conts).float())\n",
    "        if to.device is not None: res = to_device(res, to.device)\n",
    "        return res\n",
    "    \n",
    "class TabularPandasIdentity(TabularPandas): pass"
   ]
  },
  {
   "cell_type": "code",
   "execution_count": 7,
   "id": "cdb7b4ef",
   "metadata": {},
   "outputs": [],
   "source": [
    "@delegates()\n",
    "class TabDataLoaderIdentity(TabDataLoader):\n",
    "    \"A transformed `DataLoader` for AutoEncoder problems with Tabular data\"\n",
    "    do_item = noops\n",
    "    def __init__(self, dataset, bs=16, shuffle=False, after_batch=None, num_workers=0, **kwargs):\n",
    "        if after_batch is None: after_batch = L(TransformBlock().batch_tfms)+ReadTabBatchIdentity(dataset)\n",
    "        super().__init__(dataset, bs=bs, shuffle=shuffle, after_batch=after_batch, num_workers=num_workers, **kwargs)\n",
    "\n",
    "    def create_batch(self, b): return self.dataset.iloc[b]"
   ]
  },
  {
   "cell_type": "code",
   "execution_count": 10,
   "id": "db9845d9",
   "metadata": {
    "scrolled": true
   },
   "outputs": [
    {
     "name": "stderr",
     "output_type": "stream",
     "text": [
      "/opt/conda/lib/python3.7/site-packages/pandas/core/indexing.py:1667: PerformanceWarning: DataFrame is highly fragmented.  This is usually the result of calling `frame.insert` many times, which has poor performance.  Consider joining all columns at once using pd.concat(axis=1) instead.  To get a de-fragmented frame, use `newframe = frame.copy()`\n",
      "  self.obj[key] = value\n"
     ]
    },
    {
     "name": "stdout",
     "output_type": "stream",
     "text": [
      "Could not do one pass in your dataloader, there is something wrong in it\n"
     ]
    }
   ],
   "source": [
    "TabularPandasIdentity._dl_type = TabDataLoaderIdentity\n",
    "\n",
    "to = TabularPandasIdentity(df, [Categorify, FillMissing, Normalize], cat_names, cont_names, splits=RandomSplitter(seed=13)(df))\n",
    "dls = to.dataloaders(bs=512)\n",
    "dls.n_inp = 2\n",
    "\n",
    "## fastai returns an error message but everything works as expected"
   ]
  },
  {
   "cell_type": "code",
   "execution_count": 12,
   "id": "5d166455",
   "metadata": {},
   "outputs": [],
   "source": [
    "emb_szs = get_emb_sz(to.train)\n",
    "total_cats = {k:len(v) for k,v in to.classes.items()}\n",
    "\n",
    "means = pd.DataFrame.from_dict({k:[v] for k,v in to.means.items()})\n",
    "stds = pd.DataFrame.from_dict({k:[v] for k,v in to.stds.items()})\n",
    "\n",
    "low = (df[cont_names].min().to_frame().T.values - means.values) / stds.values\n",
    "high = (df[cont_names].max().to_frame().T.values - means.values) / stds.values"
   ]
  },
  {
   "cell_type": "code",
   "execution_count": 16,
   "id": "7f8d4ad2",
   "metadata": {},
   "outputs": [],
   "source": [
    "## Adding swap noise to each batch results in better regularization\n",
    "\n",
    "class BatchSwapNoise(Module):\n",
    "    \"Swap Noise Module\"\n",
    "    def __init__(self, p): store_attr()\n",
    "\n",
    "    def forward(self, x):\n",
    "        if self.training:\n",
    "            mask = torch.rand(x.size()) > (1 - self.p)\n",
    "            l1 = torch.floor(torch.rand(x.size()) * x.size(0)).type(torch.LongTensor)\n",
    "            l2 = (mask.type(torch.LongTensor) * x.size(1))\n",
    "            res = (l1 * l2).view(-1)\n",
    "            idx = torch.arange(x.nelement()) + res\n",
    "            idx[idx>=x.nelement()] = idx[idx>=x.nelement()]-x.nelement()\n",
    "            return x.flatten()[idx].view(x.size())\n",
    "        else:\n",
    "            return x"
   ]
  },
  {
   "cell_type": "code",
   "execution_count": 17,
   "id": "71c02a3f",
   "metadata": {},
   "outputs": [],
   "source": [
    "class TabularAE(TabularModel):\n",
    "    \"A simple AutoEncoder model\"\n",
    "    def __init__(self, emb_szs, n_cont, hidden_size, cats, low, high, ps=0.2, embed_p=0.01, bswap=None):\n",
    "        super().__init__(emb_szs, n_cont, layers=[1024, 512, 256], out_sz=hidden_size, embed_p=embed_p, act_cls=Mish())\n",
    "        \n",
    "        self.bswap = bswap\n",
    "        self.cats = cats\n",
    "        self.activation_cats = sum([v for k,v in cats.items()])\n",
    "        \n",
    "        self.layers = nn.Sequential(*L(self.layers.children())[:-1] + nn.Sequential(LinBnDrop(256, hidden_size, p=ps, act=Mish())))\n",
    "        \n",
    "        if(bswap != None): self.noise = BatchSwapNoise(bswap)\n",
    "        self.decoder = nn.Sequential(\n",
    "            LinBnDrop(hidden_size, 256, p=ps, act=Mish()),\n",
    "            LinBnDrop(256, 512, p=ps, act=Mish()),\n",
    "            LinBnDrop(512, 1024, p=ps, act=Mish())\n",
    "        )\n",
    "        \n",
    "        self.decoder_cont = nn.Sequential(\n",
    "            LinBnDrop(1024, n_cont, p=ps, bn=False, act=None),\n",
    "            SigmoidRange(low=low, high=high)\n",
    "        )\n",
    "        \n",
    "        self.decoder_cat = LinBnDrop(1024, self.activation_cats, p=ps, bn=False, act=None)\n",
    "        \n",
    "    def forward(self, x_cat, x_cont=None, encode=False):\n",
    "        if(self.bswap != None):\n",
    "            x_cat = self.noise(x_cat)\n",
    "            x_cont = self.noise(x_cont)\n",
    "        encoded = super().forward(x_cat, x_cont)\n",
    "        if encode: return encoded # return the representation\n",
    "        decoded_trunk = self.decoder(encoded)\n",
    "        decoded_cats = self.decoder_cat(decoded_trunk)\n",
    "        decoded_conts = self.decoder_cont(decoded_trunk)\n",
    "        return decoded_cats, decoded_conts"
   ]
  },
  {
   "cell_type": "code",
   "execution_count": 18,
   "id": "40d57e5b",
   "metadata": {},
   "outputs": [],
   "source": [
    "class RecreatedLoss(Module):\n",
    "    \"Measures how well we have created the original tabular inputs\"\n",
    "    def __init__(self, cat_dict, reduction='mean'):\n",
    "        ce = CrossEntropyLossFlat(reduction='none')\n",
    "        mse = MSELossFlat(reduction='none')\n",
    "        store_attr('cat_dict,ce,mse,reduction')\n",
    "\n",
    "    def forward(self, preds, cat_targs, cont_targs):\n",
    "        cats, conts = preds\n",
    "        tot_ce, pos = [], 0\n",
    "        for i, (k,v) in enumerate(self.cat_dict.items()):\n",
    "            tot_ce += [self.ce(cats[:, pos:pos+v], cat_targs[:,i])]\n",
    "            pos += v\n",
    "            \n",
    "        tot_ce = torch.stack(tot_ce, axis=1).mean(axis=1)\n",
    "        cont_loss = self.mse(conts, cont_targs).view(conts.shape).mean(axis=1)\n",
    "        total_loss = torch.stack([tot_ce, cont_loss], axis=1).sum(axis=1)\n",
    "        \n",
    "        if self.reduction == 'mean':\n",
    "            return total_loss.mean()\n",
    "        elif self.reduction == 'sum':\n",
    "            return total_loss.sum()\n",
    "        \n",
    "        return total_loss\n"
   ]
  },
  {
   "cell_type": "code",
   "execution_count": 19,
   "id": "09a9b886",
   "metadata": {},
   "outputs": [],
   "source": [
    "loss_func = RecreatedLoss(total_cats)"
   ]
  },
  {
   "cell_type": "code",
   "execution_count": 20,
   "id": "8b032863",
   "metadata": {},
   "outputs": [],
   "source": [
    "config = {\n",
    "    'hidden_size': 128,\n",
    "    'dropout': 0.1,\n",
    "    'embed_p': 0.01,\n",
    "    'wd': 0.01,\n",
    "    'bswap': 0.1,\n",
    "    'lr': 1e-3,\n",
    "    'epochs': 100\n",
    "}\n"
   ]
  },
  {
   "cell_type": "code",
   "execution_count": 21,
   "id": "2488566c",
   "metadata": {},
   "outputs": [],
   "source": [
    "model = TabularAE(emb_szs, len(cont_names), config['hidden_size'], ps=config['dropout'], cats=total_cats, embed_p=config['embed_p'], bswap=config['bswap'], low=tensor(low).cuda(), high=tensor(high).cuda())\n",
    "learn = Learner(dls, model, lr=config['lr'], loss_func=loss_func, wd=config['wd'], opt_func=ranger).to_fp16()"
   ]
  },
  {
   "cell_type": "code",
   "execution_count": 22,
   "id": "86288ddd",
   "metadata": {},
   "outputs": [
    {
     "data": {
      "text/html": [],
      "text/plain": [
       "<IPython.core.display.HTML object>"
      ]
     },
     "metadata": {},
     "output_type": "display_data"
    },
    {
     "data": {
      "text/plain": [
       "SuggestedLRs(valley=0.0005754399462603033)"
      ]
     },
     "execution_count": 22,
     "metadata": {},
     "output_type": "execute_result"
    },
    {
     "data": {
      "image/png": "[encoded data removed]",
      "text/plain": [
       "<Figure size 432x288 with 1 Axes>"
      ]
     },
     "metadata": {
      "needs_background": "light"
     },
     "output_type": "display_data"
    }
   ],
   "source": [
    "learn.lr_find()"
   ]
  },
  {
   "cell_type": "code",
   "execution_count": 23,
   "id": "96f04b53",
   "metadata": {},
   "outputs": [
    {
     "data": {
      "text/html": [
       "<table border=\"1\" class=\"dataframe\">\n",
       "  <thead>\n",
       "    <tr style=\"text-align: left;\">\n",
       "      <th>epoch</th>\n",
       "      <th>train_loss</th>\n",
       "      <th>valid_loss</th>\n",
       "      <th>time</th>\n",
       "    </tr>\n",
       "  </thead>\n",
       "  <tbody>\n",
       "    <tr>\n",
       "      <td>0</td>\n",
       "      <td>1.219826</td>\n",
       "      <td>0.996037</td>\n",
       "      <td>01:12</td>\n",
       "    </tr>\n",
       "    <tr>\n",
       "      <td>1</td>\n",
       "      <td>0.692698</td>\n",
       "      <td>0.588931</td>\n",
       "      <td>01:12</td>\n",
       "    </tr>\n",
       "    <tr>\n",
       "      <td>2</td>\n",
       "      <td>0.561323</td>\n",
       "      <td>0.445252</td>\n",
       "      <td>01:15</td>\n",
       "    </tr>\n",
       "    <tr>\n",
       "      <td>3</td>\n",
       "      <td>0.552086</td>\n",
       "      <td>0.411099</td>\n",
       "      <td>01:11</td>\n",
       "    </tr>\n",
       "    <tr>\n",
       "      <td>4</td>\n",
       "      <td>0.475390</td>\n",
       "      <td>0.374277</td>\n",
       "      <td>01:11</td>\n",
       "    </tr>\n",
       "    <tr>\n",
       "      <td>5</td>\n",
       "      <td>0.456177</td>\n",
       "      <td>0.367385</td>\n",
       "      <td>01:12</td>\n",
       "    </tr>\n",
       "    <tr>\n",
       "      <td>6</td>\n",
       "      <td>0.441788</td>\n",
       "      <td>0.345903</td>\n",
       "      <td>01:12</td>\n",
       "    </tr>\n",
       "    <tr>\n",
       "      <td>7</td>\n",
       "      <td>0.438042</td>\n",
       "      <td>0.339448</td>\n",
       "      <td>01:12</td>\n",
       "    </tr>\n",
       "    <tr>\n",
       "      <td>8</td>\n",
       "      <td>0.425725</td>\n",
       "      <td>0.341708</td>\n",
       "      <td>01:11</td>\n",
       "    </tr>\n",
       "  </tbody>\n",
       "</table>"
      ],
      "text/plain": [
       "<IPython.core.display.HTML object>"
      ]
     },
     "metadata": {},
     "output_type": "display_data"
    },
    {
     "name": "stdout",
     "output_type": "stream",
     "text": [
      "No improvement since epoch 7: early stopping\n"
     ]
    }
   ],
   "source": [
    "learn.fit_flat_cos(config['epochs'], cbs=[EarlyStoppingCallback()], lr=0.0006) ## needs savebestmodel callback"
   ]
  },
  {
   "cell_type": "markdown",
   "id": "74fd3de9",
   "metadata": {},
   "source": [
    "### Encode the dataset"
   ]
  },
  {
   "cell_type": "code",
   "execution_count": 24,
   "id": "80db1aca",
   "metadata": {},
   "outputs": [
    {
     "name": "stdout",
     "output_type": "stream",
     "text": [
      "Could not do one pass in your dataloader, there is something wrong in it\n"
     ]
    }
   ],
   "source": [
    "dl = learn.dls.test_dl(df)"
   ]
  },
  {
   "cell_type": "code",
   "execution_count": 25,
   "id": "bc5c68e2",
   "metadata": {},
   "outputs": [],
   "source": [
    "outs = []\n",
    "learn.model.eval()\n",
    "learn.model.cuda()\n",
    "for batch in dl:\n",
    "    with torch.no_grad():\n",
    "        out = learn.model(batch[0].cuda(), batch[1].cuda(), True).cpu().numpy()\n",
    "        outs.append(out)\n",
    "outs = np.concatenate(outs)"
   ]
  },
  {
   "cell_type": "code",
   "execution_count": 26,
   "id": "ae89a312",
   "metadata": {},
   "outputs": [
    {
     "data": {
      "text/plain": [
       "(356255, 128)"
      ]
     },
     "execution_count": 26,
     "metadata": {},
     "output_type": "execute_result"
    }
   ],
   "source": [
    "outs.shape"
   ]
  },
  {
   "cell_type": "code",
   "execution_count": 27,
   "id": "6a5d0e52",
   "metadata": {},
   "outputs": [],
   "source": [
    "ys = df['TARGET'].to_numpy()"
   ]
  },
  {
   "cell_type": "code",
   "execution_count": 30,
   "id": "32fea194",
   "metadata": {},
   "outputs": [],
   "source": [
    "df_outs = pd.DataFrame(columns=['TARGET'] + list(range(0,128)))\n",
    "df_outs['TARGET'] = ys"
   ]
  },
  {
   "cell_type": "code",
   "execution_count": 31,
   "id": "676300de",
   "metadata": {},
   "outputs": [
    {
     "data": {
      "text/html": [
       "<div>\n",
       "<style scoped>\n",
       "    .dataframe tbody tr th:only-of-type {\n",
       "        vertical-align: middle;\n",
       "    }\n",
       "\n",
       "    .dataframe tbody tr th {\n",
       "        vertical-align: top;\n",
       "    }\n",
       "\n",
       "    .dataframe thead th {\n",
       "        text-align: right;\n",
       "    }\n",
       "</style>\n",
       "<table border=\"1\" class=\"dataframe\">\n",
       "  <thead>\n",
       "    <tr style=\"text-align: right;\">\n",
       "      <th></th>\n",
       "      <th>TARGET</th>\n",
       "      <th>0</th>\n",
       "      <th>1</th>\n",
       "      <th>2</th>\n",
       "      <th>3</th>\n",
       "      <th>4</th>\n",
       "      <th>5</th>\n",
       "      <th>6</th>\n",
       "      <th>7</th>\n",
       "      <th>8</th>\n",
       "      <th>...</th>\n",
       "      <th>118</th>\n",
       "      <th>119</th>\n",
       "      <th>120</th>\n",
       "      <th>121</th>\n",
       "      <th>122</th>\n",
       "      <th>123</th>\n",
       "      <th>124</th>\n",
       "      <th>125</th>\n",
       "      <th>126</th>\n",
       "      <th>127</th>\n",
       "    </tr>\n",
       "  </thead>\n",
       "  <tbody>\n",
       "    <tr>\n",
       "      <th>0</th>\n",
       "      <td>1.0</td>\n",
       "      <td>0.223817</td>\n",
       "      <td>0.147053</td>\n",
       "      <td>-0.080323</td>\n",
       "      <td>1.537920</td>\n",
       "      <td>-0.202060</td>\n",
       "      <td>1.303261</td>\n",
       "      <td>1.764465</td>\n",
       "      <td>-0.220346</td>\n",
       "      <td>0.554668</td>\n",
       "      <td>...</td>\n",
       "      <td>0.872220</td>\n",
       "      <td>0.016421</td>\n",
       "      <td>-0.298738</td>\n",
       "      <td>0.033836</td>\n",
       "      <td>-0.245636</td>\n",
       "      <td>0.076041</td>\n",
       "      <td>0.837031</td>\n",
       "      <td>-0.291281</td>\n",
       "      <td>1.111554</td>\n",
       "      <td>1.189126</td>\n",
       "    </tr>\n",
       "    <tr>\n",
       "      <th>1</th>\n",
       "      <td>0.0</td>\n",
       "      <td>1.587027</td>\n",
       "      <td>-0.288330</td>\n",
       "      <td>0.924828</td>\n",
       "      <td>-0.016492</td>\n",
       "      <td>0.743913</td>\n",
       "      <td>1.483061</td>\n",
       "      <td>-0.300190</td>\n",
       "      <td>1.194510</td>\n",
       "      <td>0.631607</td>\n",
       "      <td>...</td>\n",
       "      <td>0.202570</td>\n",
       "      <td>0.518398</td>\n",
       "      <td>1.542362</td>\n",
       "      <td>0.171985</td>\n",
       "      <td>0.450109</td>\n",
       "      <td>1.582077</td>\n",
       "      <td>0.489492</td>\n",
       "      <td>-0.203189</td>\n",
       "      <td>0.809342</td>\n",
       "      <td>0.244990</td>\n",
       "    </tr>\n",
       "    <tr>\n",
       "      <th>2</th>\n",
       "      <td>0.0</td>\n",
       "      <td>0.063444</td>\n",
       "      <td>0.582320</td>\n",
       "      <td>1.075730</td>\n",
       "      <td>1.791741</td>\n",
       "      <td>0.995673</td>\n",
       "      <td>-0.264650</td>\n",
       "      <td>1.148644</td>\n",
       "      <td>1.084628</td>\n",
       "      <td>0.279299</td>\n",
       "      <td>...</td>\n",
       "      <td>-0.287434</td>\n",
       "      <td>-0.201565</td>\n",
       "      <td>-0.048375</td>\n",
       "      <td>0.592506</td>\n",
       "      <td>0.148444</td>\n",
       "      <td>-0.111525</td>\n",
       "      <td>1.088145</td>\n",
       "      <td>1.442493</td>\n",
       "      <td>1.940810</td>\n",
       "      <td>0.216456</td>\n",
       "    </tr>\n",
       "    <tr>\n",
       "      <th>3</th>\n",
       "      <td>0.0</td>\n",
       "      <td>0.801801</td>\n",
       "      <td>0.330781</td>\n",
       "      <td>-0.308816</td>\n",
       "      <td>-0.254491</td>\n",
       "      <td>1.200719</td>\n",
       "      <td>0.069808</td>\n",
       "      <td>-0.302202</td>\n",
       "      <td>0.353008</td>\n",
       "      <td>2.718869</td>\n",
       "      <td>...</td>\n",
       "      <td>0.953170</td>\n",
       "      <td>1.217111</td>\n",
       "      <td>0.719705</td>\n",
       "      <td>-0.097575</td>\n",
       "      <td>1.037981</td>\n",
       "      <td>1.307088</td>\n",
       "      <td>0.929782</td>\n",
       "      <td>0.688756</td>\n",
       "      <td>-0.008400</td>\n",
       "      <td>0.560944</td>\n",
       "    </tr>\n",
       "    <tr>\n",
       "      <th>4</th>\n",
       "      <td>0.0</td>\n",
       "      <td>0.079937</td>\n",
       "      <td>0.515403</td>\n",
       "      <td>0.292739</td>\n",
       "      <td>-0.287503</td>\n",
       "      <td>-0.008445</td>\n",
       "      <td>0.466946</td>\n",
       "      <td>-0.142198</td>\n",
       "      <td>-0.267022</td>\n",
       "      <td>0.931113</td>\n",
       "      <td>...</td>\n",
       "      <td>0.809976</td>\n",
       "      <td>-0.251930</td>\n",
       "      <td>-0.268248</td>\n",
       "      <td>0.536337</td>\n",
       "      <td>0.430195</td>\n",
       "      <td>0.025821</td>\n",
       "      <td>0.278714</td>\n",
       "      <td>0.287819</td>\n",
       "      <td>0.454725</td>\n",
       "      <td>0.040216</td>\n",
       "    </tr>\n",
       "  </tbody>\n",
       "</table>\n",
       "<p>5 rows × 129 columns</p>\n",
       "</div>"
      ],
      "text/plain": [
       "   TARGET         0         1         2         3         4         5  \\\n",
       "0     1.0  0.223817  0.147053 -0.080323  1.537920 -0.202060  1.303261   \n",
       "1     0.0  1.587027 -0.288330  0.924828 -0.016492  0.743913  1.483061   \n",
       "2     0.0  0.063444  0.582320  1.075730  1.791741  0.995673 -0.264650   \n",
       "3     0.0  0.801801  0.330781 -0.308816 -0.254491  1.200719  0.069808   \n",
       "4     0.0  0.079937  0.515403  0.292739 -0.287503 -0.008445  0.466946   \n",
       "\n",
       "          6         7         8  ...       118       119       120       121  \\\n",
       "0  1.764465 -0.220346  0.554668  ...  0.872220  0.016421 -0.298738  0.033836   \n",
       "1 -0.300190  1.194510  0.631607  ...  0.202570  0.518398  1.542362  0.171985   \n",
       "2  1.148644  1.084628  0.279299  ... -0.287434 -0.201565 -0.048375  0.592506   \n",
       "3 -0.302202  0.353008  2.718869  ...  0.953170  1.217111  0.719705 -0.097575   \n",
       "4 -0.142198 -0.267022  0.931113  ...  0.809976 -0.251930 -0.268248  0.536337   \n",
       "\n",
       "        122       123       124       125       126       127  \n",
       "0 -0.245636  0.076041  0.837031 -0.291281  1.111554  1.189126  \n",
       "1  0.450109  1.582077  0.489492 -0.203189  0.809342  0.244990  \n",
       "2  0.148444 -0.111525  1.088145  1.442493  1.940810  0.216456  \n",
       "3  1.037981  1.307088  0.929782  0.688756 -0.008400  0.560944  \n",
       "4  0.430195  0.025821  0.278714  0.287819  0.454725  0.040216  \n",
       "\n",
       "[5 rows x 129 columns]"
      ]
     },
     "execution_count": 31,
     "metadata": {},
     "output_type": "execute_result"
    }
   ],
   "source": [
    "df_outs[list(range(0,128))] = outs\n",
    "df_outs.head()"
   ]
  },
  {
   "cell_type": "code",
   "execution_count": 32,
   "id": "e9ed1a69",
   "metadata": {},
   "outputs": [],
   "source": [
    "pd.options.mode.chained_assignment=None"
   ]
  },
  {
   "cell_type": "code",
   "execution_count": 33,
   "id": "2ca7b2cc",
   "metadata": {},
   "outputs": [],
   "source": [
    "df_outs = df_outs[pd.notna(df_outs.TARGET)]"
   ]
  },
  {
   "cell_type": "code",
   "execution_count": 34,
   "id": "1a91b5a8",
   "metadata": {},
   "outputs": [],
   "source": [
    "splits = RandomSplitter()(range_of(df_outs))"
   ]
  },
  {
   "cell_type": "code",
   "execution_count": 35,
   "id": "c61a7104",
   "metadata": {},
   "outputs": [],
   "source": [
    "df_outs[list(range(0,128))] = df_outs[list(range(0,128))].astype(np.float16)"
   ]
  },
  {
   "cell_type": "markdown",
   "id": "8e892fa3",
   "metadata": {},
   "source": [
    "### Predict defaults using the encoded inputs\n",
    "The results are significantly worse compared to the unencoded inputs. This isnt really suprising, since I use the pre-selected dataset as a starting point. Next I will encode the full dataset with over 1400 features. This will probably take quite a long time so I will do this over Kaggle or Google Colab."
   ]
  },
  {
   "cell_type": "code",
   "execution_count": 36,
   "id": "680947c0",
   "metadata": {},
   "outputs": [],
   "source": [
    "cont_names = list(range(0,128))\n",
    "to = TabularPandas(df_outs, procs = [Normalize], cont_names=cont_names, splits=splits, y_names=['TARGET'], \n",
    "                   y_block=CategoryBlock())"
   ]
  },
  {
   "cell_type": "code",
   "execution_count": 37,
   "id": "070b8083",
   "metadata": {},
   "outputs": [],
   "source": [
    "dls = to.dataloaders(bs=1024)"
   ]
  },
  {
   "cell_type": "code",
   "execution_count": 38,
   "id": "878c77b8",
   "metadata": {},
   "outputs": [],
   "source": [
    "learn = tabular_learner(dls, metrics=[RocAucBinary()], cbs=[EarlyStoppingCallback(patience=3), SaveModelCallback()])"
   ]
  },
  {
   "cell_type": "code",
   "execution_count": 39,
   "id": "4d9e47ab",
   "metadata": {},
   "outputs": [
    {
     "data": {
      "text/html": [],
      "text/plain": [
       "<IPython.core.display.HTML object>"
      ]
     },
     "metadata": {},
     "output_type": "display_data"
    },
    {
     "data": {
      "text/plain": [
       "SuggestedLRs(valley=0.0014454397605732083)"
      ]
     },
     "execution_count": 39,
     "metadata": {},
     "output_type": "execute_result"
    },
    {
     "data": {
      "image/png": "[encoded data removed]",
      "text/plain": [
       "<Figure size 432x288 with 1 Axes>"
      ]
     },
     "metadata": {
      "needs_background": "light"
     },
     "output_type": "display_data"
    }
   ],
   "source": [
    "learn.lr_find()"
   ]
  },
  {
   "cell_type": "code",
   "execution_count": 40,
   "id": "d3209c49",
   "metadata": {},
   "outputs": [
    {
     "data": {
      "text/html": [
       "<table border=\"1\" class=\"dataframe\">\n",
       "  <thead>\n",
       "    <tr style=\"text-align: left;\">\n",
       "      <th>epoch</th>\n",
       "      <th>train_loss</th>\n",
       "      <th>valid_loss</th>\n",
       "      <th>roc_auc_score</th>\n",
       "      <th>time</th>\n",
       "    </tr>\n",
       "  </thead>\n",
       "  <tbody>\n",
       "    <tr>\n",
       "      <td>0</td>\n",
       "      <td>0.266012</td>\n",
       "      <td>0.251252</td>\n",
       "      <td>0.743669</td>\n",
       "      <td>00:01</td>\n",
       "    </tr>\n",
       "    <tr>\n",
       "      <td>1</td>\n",
       "      <td>0.245820</td>\n",
       "      <td>0.250112</td>\n",
       "      <td>0.748310</td>\n",
       "      <td>00:01</td>\n",
       "    </tr>\n",
       "    <tr>\n",
       "      <td>2</td>\n",
       "      <td>0.245902</td>\n",
       "      <td>0.249438</td>\n",
       "      <td>0.749328</td>\n",
       "      <td>00:01</td>\n",
       "    </tr>\n",
       "    <tr>\n",
       "      <td>3</td>\n",
       "      <td>0.245188</td>\n",
       "      <td>0.249212</td>\n",
       "      <td>0.752687</td>\n",
       "      <td>00:01</td>\n",
       "    </tr>\n",
       "    <tr>\n",
       "      <td>4</td>\n",
       "      <td>0.242875</td>\n",
       "      <td>0.247995</td>\n",
       "      <td>0.754091</td>\n",
       "      <td>00:01</td>\n",
       "    </tr>\n",
       "    <tr>\n",
       "      <td>5</td>\n",
       "      <td>0.241084</td>\n",
       "      <td>0.248792</td>\n",
       "      <td>0.750752</td>\n",
       "      <td>00:01</td>\n",
       "    </tr>\n",
       "    <tr>\n",
       "      <td>6</td>\n",
       "      <td>0.237964</td>\n",
       "      <td>0.249130</td>\n",
       "      <td>0.751984</td>\n",
       "      <td>00:01</td>\n",
       "    </tr>\n",
       "    <tr>\n",
       "      <td>7</td>\n",
       "      <td>0.239955</td>\n",
       "      <td>0.250898</td>\n",
       "      <td>0.745079</td>\n",
       "      <td>00:01</td>\n",
       "    </tr>\n",
       "  </tbody>\n",
       "</table>"
      ],
      "text/plain": [
       "<IPython.core.display.HTML object>"
      ]
     },
     "metadata": {},
     "output_type": "display_data"
    },
    {
     "name": "stdout",
     "output_type": "stream",
     "text": [
      "Better model found at epoch 0 with valid_loss value: 0.2512516677379608.\n",
      "Better model found at epoch 1 with valid_loss value: 0.2501122057437897.\n",
      "Better model found at epoch 2 with valid_loss value: 0.2494376301765442.\n",
      "Better model found at epoch 3 with valid_loss value: 0.24921216070652008.\n",
      "Better model found at epoch 4 with valid_loss value: 0.24799488484859467.\n",
      "No improvement since epoch 4: early stopping\n"
     ]
    }
   ],
   "source": [
    "learn.fit(100, 0.001)"
   ]
  },
  {
   "cell_type": "code",
   "execution_count": 41,
   "id": "b0231cbd",
   "metadata": {},
   "outputs": [],
   "source": [
    "def print_confusion_nn(learner):\n",
    "    pred, targ = learn.get_preds(dl=dls.valid)\n",
    "    pred = np.arange(pred.shape[1])[np.argmax(pred, axis=1)]\n",
    "    \n",
    "    cm = confusion_matrix(targ, pred)\n",
    "    \n",
    "    cm_matrix = pd.DataFrame(data=cm, columns=['Actual No Default', 'Actual Default'], \n",
    "                            index=['Predict No Default', 'Predict Default'])\n",
    "    \n",
    "    sns.heatmap(cm_matrix, annot=True, fmt='d', cmap='YlGnBu')"
   ]
  },
  {
   "cell_type": "code",
   "execution_count": 46,
   "id": "09c1e215",
   "metadata": {},
   "outputs": [
    {
     "data": {
      "text/html": [],
      "text/plain": [
       "<IPython.core.display.HTML object>"
      ]
     },
     "metadata": {},
     "output_type": "display_data"
    },
    {
     "data": {
      "image/png": "[encoded data removed]",
      "text/plain": [
       "<Figure size 432x288 with 2 Axes>"
      ]
     },
     "metadata": {
      "needs_background": "light"
     },
     "output_type": "display_data"
    }
   ],
   "source": [
    "print_confusion_nn(learn)"
   ]
  },
  {
   "cell_type": "code",
   "execution_count": null,
   "id": "34cbddfd",
   "metadata": {},
   "outputs": [],
   "source": []
  }
 ],
 "metadata": {
  "kernelspec": {
   "display_name": "Python 3 (ipykernel)",
   "language": "python",
   "name": "python3"
  },
  "language_info": {
   "codemirror_mode": {
    "name": "ipython",
    "version": 3
   },
   "file_extension": ".py",
   "mimetype": "text/x-python",
   "name": "python",
   "nbconvert_exporter": "python",
   "pygments_lexer": "ipython3",
   "version": "3.7.11"
  }
 },
 "nbformat": 4,
 "nbformat_minor": 5
}
